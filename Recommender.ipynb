{
 "cells": [
  {
   "cell_type": "code",
   "execution_count": 2,
   "metadata": {},
   "outputs": [],
   "source": [
    "import pandas as pd\n",
    "import numpy as np\n",
    "from sklearn.feature_extraction.text import CountVectorizer\n",
    "from sklearn.metrics.pairwise import cosine_similarity\n",
    "import difflib"
   ]
  },
  {
   "cell_type": "code",
   "execution_count": 5,
   "metadata": {},
   "outputs": [],
   "source": [
    "\n",
    "def title_from_index(index):\n",
    "    return movie[movie.index == index][\"title\"].values[0]\n",
    "\n",
    "def index_from_title(title):\n",
    "    title_list = movie['title'].tolist()\n",
    "    common = difflib.get_close_matches(title, title_list, 1)\n",
    "    titlesim = common[0]\n",
    "    return movie[movie.title == titlesim][\"index\"].values[0]\n",
    "movie = pd.read_csv(\"moviedata.csv\")\n",
    "features = ['keywords','cast','genres','director','tagline']\n",
    "for feature in features:\n",
    "    movie[feature] = movie[feature].fillna('')\n",
    "    "
   ]
  },
  {
   "cell_type": "code",
   "execution_count": 7,
   "metadata": {},
   "outputs": [
    {
     "name": "stdout",
     "output_type": "stream",
     "text": [
      "Enter movie of your choice:\tavengers\n",
      "\n",
      "Other movies you might be interested in:-\n",
      "\n",
      "1) Avengers: Age of Ultron\n",
      "2) Captain America: The Winter Soldier\n",
      "3) Captain America: Civil War\n",
      "4) Iron Man 2\n",
      "5) Thor: The Dark World\n",
      "6) X-Men\n",
      "7) The Incredible Hulk\n",
      "8) Ant-Man\n",
      "9) X-Men: The Last Stand\n",
      "10) Captain America: The First Avenger\n",
      "11) X2\n",
      "12) Iron Man\n",
      "13) X-Men: Apocalypse\n",
      "14) Thor\n",
      "15) Iron Man 3\n",
      "16) X-Men: Days of Future Past\n",
      "17) Deadpool\n",
      "18) The Amazing Spider-Man 2\n",
      "19) Man of Steel\n",
      "20) Guardians of the Galaxy\n",
      "21) Superman II\n",
      "22) Spawn\n",
      "23) Street Fighter: The Legend of Chun-Li\n",
      "24) The Spirit\n",
      "25) The Helix... Loaded\n",
      "26) The Image Revolution\n",
      "27) Batman v Superman: Dawn of Justice\n",
      "28) X-Men: First Class\n",
      "29) Teenage Mutant Ninja Turtles: Out of the Shadows\n",
      "30) What's Your Number?\n",
      "31) Fantastic Four\n",
      "32) Down to Earth\n",
      "33) X-Men Origins: Wolverine\n",
      "34) Money Train\n",
      "35) Beastmaster 2: Through the Portal of Time\n",
      "36) Delgo\n",
      "37) Star Trek Beyond\n",
      "38) The Shadow\n",
      "39) 2 Guns\n",
      "40) Wild Wild West\n",
      "41) The Hunger Games: Catching Fire\n",
      "42) Watchmen\n",
      "43) A Scanner Darkly\n",
      "44) Star Trek Into Darkness\n",
      "45) In the Heart of the Sea\n",
      "46) Sin City\n",
      "47) Star Trek\n",
      "48) Meet Dave\n",
      "49) Damnation Alley\n",
      "50) London\n"
     ]
    }
   ],
   "source": [
    "def combine_features(row):\n",
    "    try:\n",
    "        return row['keywords'] +\" \"+row['cast']+\" \"+row['genres']+\" \"+row['director']+\" \"+row['tagline']\n",
    "    except:\n",
    "        print (\"Error:\", row)\n",
    "movie[\"combined_features\"] = movie.apply(combine_features,axis=1)\n",
    "cv = CountVectorizer()\n",
    "count_matrix = cv.fit_transform(movie[\"combined_features\"])\n",
    "cosine_sim = cosine_similarity(count_matrix) \n",
    "\n",
    "user_movie = input(\"Enter movie of your choice:\\t\")\n",
    "movie_index = index_from_title(user_movie)\n",
    "\n",
    "similar_movies =  list(enumerate(cosine_sim[movie_index]))\n",
    "similar_movies_sorted = sorted(similar_movies,key=lambda x:x[1],reverse=True)\n",
    "i=0\n",
    "print(\"\\nOther movies you might be interested in:-\\n\")\n",
    "for rec_movie in similar_movies_sorted:\n",
    "        if(i!=0):\n",
    "            print (i,\") \",title_from_index(rec_movie[0]),sep=\"\")\n",
    "        i=i+1\n",
    "        if i>50:\n",
    "            break"
   ]
  },
  {
   "cell_type": "code",
   "execution_count": null,
   "metadata": {},
   "outputs": [],
   "source": []
  }
 ],
 "metadata": {
  "kernelspec": {
   "display_name": "Python 3",
   "language": "python",
   "name": "python3"
  },
  "language_info": {
   "codemirror_mode": {
    "name": "ipython",
    "version": 3
   },
   "file_extension": ".py",
   "mimetype": "text/x-python",
   "name": "python",
   "nbconvert_exporter": "python",
   "pygments_lexer": "ipython3",
   "version": "3.7.6"
  }
 },
 "nbformat": 4,
 "nbformat_minor": 4
}
